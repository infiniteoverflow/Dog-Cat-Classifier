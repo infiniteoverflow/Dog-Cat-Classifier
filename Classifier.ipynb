{
 "cells": [
  {
   "cell_type": "code",
   "execution_count": 115,
   "metadata": {},
   "outputs": [],
   "source": [
    "from keras.models import Sequential\n",
    "from keras.layers import Convolution2D\n",
    "from keras.layers import MaxPooling2D\n",
    "from keras.layers import Flatten\n",
    "from keras.layers import Dense"
   ]
  },
  {
   "cell_type": "code",
   "execution_count": 116,
   "metadata": {},
   "outputs": [],
   "source": [
    "model = Sequential()"
   ]
  },
  {
   "cell_type": "code",
   "execution_count": 117,
   "metadata": {},
   "outputs": [
    {
     "name": "stderr",
     "output_type": "stream",
     "text": [
      "/home/aswin/anaconda3/lib/python3.7/site-packages/ipykernel_launcher.py:1: UserWarning: Update your `Conv2D` call to the Keras 2 API: `Conv2D(16, (3, 3), input_shape=(64, 64, 3..., activation=\"relu\")`\n",
      "  \"\"\"Entry point for launching an IPython kernel.\n"
     ]
    }
   ],
   "source": [
    "model.add(Convolution2D(16,3,3,input_shape=(64,64,3),activation='relu'))"
   ]
  },
  {
   "cell_type": "code",
   "execution_count": 118,
   "metadata": {},
   "outputs": [],
   "source": [
    "model.add(MaxPooling2D(pool_size=(2,2)))"
   ]
  },
  {
   "cell_type": "code",
   "execution_count": 119,
   "metadata": {},
   "outputs": [],
   "source": [
    "model.add(Flatten())"
   ]
  },
  {
   "cell_type": "code",
   "execution_count": 120,
   "metadata": {},
   "outputs": [
    {
     "name": "stderr",
     "output_type": "stream",
     "text": [
      "/home/aswin/anaconda3/lib/python3.7/site-packages/ipykernel_launcher.py:1: UserWarning: Update your `Dense` call to the Keras 2 API: `Dense(activation=\"relu\", units=128)`\n",
      "  \"\"\"Entry point for launching an IPython kernel.\n",
      "/home/aswin/anaconda3/lib/python3.7/site-packages/ipykernel_launcher.py:2: UserWarning: Update your `Dense` call to the Keras 2 API: `Dense(activation=\"sigmoid\", units=1)`\n",
      "  \n"
     ]
    }
   ],
   "source": [
    "model.add(Dense(output_dim = 128, activation = 'relu'))\n",
    "model.add(Dense(output_dim = 1, activation = 'sigmoid'))"
   ]
  },
  {
   "cell_type": "code",
   "execution_count": 121,
   "metadata": {},
   "outputs": [],
   "source": [
    "model.compile(optimizer = 'adam', loss = 'binary_crossentropy', metrics = ['accuracy'])"
   ]
  },
  {
   "cell_type": "code",
   "execution_count": 122,
   "metadata": {},
   "outputs": [],
   "source": [
    "from keras.preprocessing.image import ImageDataGenerator\n"
   ]
  },
  {
   "cell_type": "code",
   "execution_count": 123,
   "metadata": {},
   "outputs": [],
   "source": [
    "train_datagen = ImageDataGenerator(rescale = 1./255,\n",
    "                                   shear_range = 0.2,\n",
    "                                   zoom_range = 0.2,\n",
    "                                   horizontal_flip = True)"
   ]
  },
  {
   "cell_type": "code",
   "execution_count": 124,
   "metadata": {},
   "outputs": [],
   "source": [
    "test_datagen = ImageDataGenerator(rescale = 1./255)\n"
   ]
  },
  {
   "cell_type": "code",
   "execution_count": 125,
   "metadata": {},
   "outputs": [
    {
     "name": "stdout",
     "output_type": "stream",
     "text": [
      "Found 8000 images belonging to 2 classes.\n"
     ]
    }
   ],
   "source": [
    "training_set = train_datagen.flow_from_directory('dataset/training_set',\n",
    "                                                 target_size = (64, 64),\n",
    "                                                 batch_size = 32,\n",
    "                                                 class_mode = 'binary')"
   ]
  },
  {
   "cell_type": "code",
   "execution_count": 126,
   "metadata": {},
   "outputs": [
    {
     "name": "stdout",
     "output_type": "stream",
     "text": [
      "Found 2000 images belonging to 2 classes.\n"
     ]
    }
   ],
   "source": [
    "test_set = test_datagen.flow_from_directory('dataset/test_set',\n",
    "                                            target_size = (64, 64),\n",
    "                                            batch_size = 32,\n",
    "                                            class_mode = 'binary')"
   ]
  },
  {
   "cell_type": "code",
   "execution_count": 127,
   "metadata": {},
   "outputs": [
    {
     "name": "stderr",
     "output_type": "stream",
     "text": [
      "/home/aswin/anaconda3/lib/python3.7/site-packages/ipykernel_launcher.py:5: UserWarning: The semantics of the Keras 2 argument `steps_per_epoch` is not the same as the Keras 1 argument `samples_per_epoch`. `steps_per_epoch` is the number of batches to draw from the generator at each epoch. Basically steps_per_epoch = samples_per_epoch/batch_size. Similarly `nb_val_samples`->`validation_steps` and `val_samples`->`steps` arguments have changed. Update your method calls accordingly.\n",
      "  \"\"\"\n",
      "/home/aswin/anaconda3/lib/python3.7/site-packages/ipykernel_launcher.py:5: UserWarning: Update your `fit_generator` call to the Keras 2 API: `fit_generator(<keras.pre..., validation_data=<keras.pre..., steps_per_epoch=250, epochs=100, validation_steps=2000)`\n",
      "  \"\"\"\n"
     ]
    },
    {
     "name": "stdout",
     "output_type": "stream",
     "text": [
      "Epoch 1/100\n",
      "250/250 [==============================] - 197s 789ms/step - loss: 0.6940 - accuracy: 0.5856 - val_loss: 0.6665 - val_accuracy: 0.6087\n",
      "Epoch 2/100\n",
      "250/250 [==============================] - 195s 781ms/step - loss: 0.6258 - accuracy: 0.6457 - val_loss: 0.7826 - val_accuracy: 0.6609\n",
      "Epoch 3/100\n",
      "250/250 [==============================] - 195s 781ms/step - loss: 0.6089 - accuracy: 0.6571 - val_loss: 0.6669 - val_accuracy: 0.6509\n",
      "Epoch 4/100\n",
      "250/250 [==============================] - 195s 781ms/step - loss: 0.5922 - accuracy: 0.6816 - val_loss: 0.5953 - val_accuracy: 0.6846\n",
      "Epoch 5/100\n",
      "250/250 [==============================] - 196s 784ms/step - loss: 0.5730 - accuracy: 0.6988 - val_loss: 0.4972 - val_accuracy: 0.7049\n",
      "Epoch 6/100\n",
      "250/250 [==============================] - 195s 781ms/step - loss: 0.5591 - accuracy: 0.7094 - val_loss: 0.5360 - val_accuracy: 0.7167\n",
      "Epoch 7/100\n",
      "250/250 [==============================] - 195s 780ms/step - loss: 0.5517 - accuracy: 0.7234 - val_loss: 0.5188 - val_accuracy: 0.6945\n",
      "Epoch 8/100\n",
      "250/250 [==============================] - 195s 780ms/step - loss: 0.5408 - accuracy: 0.7234 - val_loss: 0.4132 - val_accuracy: 0.7310\n",
      "Epoch 9/100\n",
      "250/250 [==============================] - 196s 783ms/step - loss: 0.5418 - accuracy: 0.7219 - val_loss: 0.5569 - val_accuracy: 0.7351\n",
      "Epoch 10/100\n",
      "250/250 [==============================] - 195s 780ms/step - loss: 0.5320 - accuracy: 0.7300 - val_loss: 0.4795 - val_accuracy: 0.7129\n",
      "Epoch 11/100\n",
      "250/250 [==============================] - 195s 781ms/step - loss: 0.5207 - accuracy: 0.7427 - val_loss: 0.5492 - val_accuracy: 0.7114\n",
      "Epoch 12/100\n",
      "250/250 [==============================] - 195s 780ms/step - loss: 0.5057 - accuracy: 0.7494 - val_loss: 0.5872 - val_accuracy: 0.7019\n",
      "Epoch 13/100\n",
      "250/250 [==============================] - 196s 783ms/step - loss: 0.4975 - accuracy: 0.7549 - val_loss: 0.5192 - val_accuracy: 0.7415\n",
      "Epoch 14/100\n",
      "250/250 [==============================] - 195s 780ms/step - loss: 0.4908 - accuracy: 0.7602 - val_loss: 0.4582 - val_accuracy: 0.7491\n",
      "Epoch 15/100\n",
      "250/250 [==============================] - 195s 780ms/step - loss: 0.4849 - accuracy: 0.7655 - val_loss: 0.4743 - val_accuracy: 0.7602\n",
      "Epoch 16/100\n",
      "250/250 [==============================] - 195s 780ms/step - loss: 0.4780 - accuracy: 0.7707 - val_loss: 0.6457 - val_accuracy: 0.7562\n",
      "Epoch 17/100\n",
      "250/250 [==============================] - 195s 782ms/step - loss: 0.4788 - accuracy: 0.7726 - val_loss: 0.4826 - val_accuracy: 0.7223\n",
      "Epoch 18/100\n",
      "250/250 [==============================] - 195s 780ms/step - loss: 0.4660 - accuracy: 0.7780 - val_loss: 0.3946 - val_accuracy: 0.7505\n",
      "Epoch 19/100\n",
      "250/250 [==============================] - 195s 780ms/step - loss: 0.4628 - accuracy: 0.7766 - val_loss: 0.5607 - val_accuracy: 0.7045\n",
      "Epoch 20/100\n",
      "250/250 [==============================] - 195s 781ms/step - loss: 0.4601 - accuracy: 0.7781 - val_loss: 0.4343 - val_accuracy: 0.7424\n",
      "Epoch 21/100\n",
      "250/250 [==============================] - 195s 781ms/step - loss: 0.4555 - accuracy: 0.7841 - val_loss: 0.4814 - val_accuracy: 0.7558\n",
      "Epoch 22/100\n",
      "250/250 [==============================] - 195s 780ms/step - loss: 0.4564 - accuracy: 0.7856 - val_loss: 0.5418 - val_accuracy: 0.7589\n",
      "Epoch 23/100\n",
      "250/250 [==============================] - 195s 779ms/step - loss: 0.4516 - accuracy: 0.7841 - val_loss: 0.3466 - val_accuracy: 0.7361\n",
      "Epoch 24/100\n",
      "250/250 [==============================] - 195s 780ms/step - loss: 0.4484 - accuracy: 0.7864 - val_loss: 0.9732 - val_accuracy: 0.7627\n",
      "Epoch 25/100\n",
      "250/250 [==============================] - 195s 781ms/step - loss: 0.4341 - accuracy: 0.7958 - val_loss: 1.0800 - val_accuracy: 0.7523\n",
      "Epoch 26/100\n",
      "250/250 [==============================] - 195s 779ms/step - loss: 0.4427 - accuracy: 0.7906 - val_loss: 0.6404 - val_accuracy: 0.7614\n",
      "Epoch 27/100\n",
      "250/250 [==============================] - 195s 781ms/step - loss: 0.4298 - accuracy: 0.7989 - val_loss: 0.5192 - val_accuracy: 0.7397\n",
      "Epoch 28/100\n",
      "250/250 [==============================] - 195s 780ms/step - loss: 0.4285 - accuracy: 0.7993 - val_loss: 0.4720 - val_accuracy: 0.7551\n",
      "Epoch 29/100\n",
      "250/250 [==============================] - 195s 781ms/step - loss: 0.4358 - accuracy: 0.7981 - val_loss: 0.7893 - val_accuracy: 0.7385\n",
      "Epoch 30/100\n",
      "250/250 [==============================] - 195s 780ms/step - loss: 0.4225 - accuracy: 0.8064 - val_loss: 0.6985 - val_accuracy: 0.7516\n",
      "Epoch 31/100\n",
      "250/250 [==============================] - 195s 780ms/step - loss: 0.4211 - accuracy: 0.8050 - val_loss: 0.5584 - val_accuracy: 0.7451\n",
      "Epoch 32/100\n",
      "250/250 [==============================] - 195s 781ms/step - loss: 0.4169 - accuracy: 0.8098 - val_loss: 0.8548 - val_accuracy: 0.7548\n",
      "Epoch 33/100\n",
      "250/250 [==============================] - 195s 782ms/step - loss: 0.4170 - accuracy: 0.8069 - val_loss: 0.4877 - val_accuracy: 0.7588\n",
      "Epoch 34/100\n",
      "250/250 [==============================] - 195s 782ms/step - loss: 0.4102 - accuracy: 0.8075 - val_loss: 0.5809 - val_accuracy: 0.7604\n",
      "Epoch 35/100\n",
      "250/250 [==============================] - 195s 781ms/step - loss: 0.4038 - accuracy: 0.8138 - val_loss: 0.5470 - val_accuracy: 0.7494\n",
      "Epoch 36/100\n",
      "250/250 [==============================] - 195s 780ms/step - loss: 0.4076 - accuracy: 0.8121 - val_loss: 0.3869 - val_accuracy: 0.7634\n",
      "Epoch 37/100\n",
      "250/250 [==============================] - 195s 781ms/step - loss: 0.4029 - accuracy: 0.8159 - val_loss: 0.5022 - val_accuracy: 0.7543\n",
      "Epoch 38/100\n",
      "250/250 [==============================] - 195s 779ms/step - loss: 0.3934 - accuracy: 0.8200 - val_loss: 0.5077 - val_accuracy: 0.7497\n",
      "Epoch 39/100\n",
      "250/250 [==============================] - 195s 781ms/step - loss: 0.3987 - accuracy: 0.8191 - val_loss: 0.5091 - val_accuracy: 0.7518\n",
      "Epoch 40/100\n",
      "250/250 [==============================] - 195s 779ms/step - loss: 0.3929 - accuracy: 0.8184 - val_loss: 0.6130 - val_accuracy: 0.7591\n",
      "Epoch 41/100\n",
      "250/250 [==============================] - 195s 781ms/step - loss: 0.3900 - accuracy: 0.8227 - val_loss: 0.6336 - val_accuracy: 0.7299\n",
      "Epoch 42/100\n",
      "250/250 [==============================] - 195s 780ms/step - loss: 0.3817 - accuracy: 0.8256 - val_loss: 0.6059 - val_accuracy: 0.7527\n",
      "Epoch 43/100\n",
      "250/250 [==============================] - 195s 781ms/step - loss: 0.3787 - accuracy: 0.8288 - val_loss: 0.5025 - val_accuracy: 0.7474\n",
      "Epoch 44/100\n",
      "250/250 [==============================] - 195s 781ms/step - loss: 0.3697 - accuracy: 0.8341 - val_loss: 1.1785 - val_accuracy: 0.7520\n",
      "Epoch 45/100\n",
      "250/250 [==============================] - 195s 780ms/step - loss: 0.3697 - accuracy: 0.8330 - val_loss: 1.0208 - val_accuracy: 0.7225\n",
      "Epoch 46/100\n",
      "250/250 [==============================] - 195s 780ms/step - loss: 0.3680 - accuracy: 0.8374 - val_loss: 0.5277 - val_accuracy: 0.7457\n",
      "Epoch 47/100\n",
      "250/250 [==============================] - 195s 780ms/step - loss: 0.3674 - accuracy: 0.8313 - val_loss: 0.8268 - val_accuracy: 0.7383\n",
      "Epoch 48/100\n",
      "250/250 [==============================] - 195s 780ms/step - loss: 0.3593 - accuracy: 0.8400 - val_loss: 0.5303 - val_accuracy: 0.7414\n",
      "Epoch 49/100\n",
      "250/250 [==============================] - 195s 780ms/step - loss: 0.3612 - accuracy: 0.8399 - val_loss: 1.3191 - val_accuracy: 0.7373\n",
      "Epoch 50/100\n",
      "250/250 [==============================] - 195s 781ms/step - loss: 0.3535 - accuracy: 0.8429 - val_loss: 0.6402 - val_accuracy: 0.7494\n",
      "Epoch 51/100\n",
      "250/250 [==============================] - 195s 779ms/step - loss: 0.3606 - accuracy: 0.8409 - val_loss: 0.6504 - val_accuracy: 0.7472\n",
      "Epoch 52/100\n",
      "250/250 [==============================] - 195s 780ms/step - loss: 0.3564 - accuracy: 0.8418 - val_loss: 1.0580 - val_accuracy: 0.7420\n",
      "Epoch 53/100\n",
      "250/250 [==============================] - 195s 781ms/step - loss: 0.3409 - accuracy: 0.8496 - val_loss: 0.6950 - val_accuracy: 0.7589\n",
      "Epoch 54/100\n",
      "250/250 [==============================] - 195s 780ms/step - loss: 0.3499 - accuracy: 0.8439 - val_loss: 0.4496 - val_accuracy: 0.7377\n",
      "Epoch 55/100\n",
      "250/250 [==============================] - 195s 780ms/step - loss: 0.3390 - accuracy: 0.8503 - val_loss: 0.5317 - val_accuracy: 0.7513\n",
      "Epoch 56/100\n"
     ]
    },
    {
     "name": "stdout",
     "output_type": "stream",
     "text": [
      "250/250 [==============================] - 195s 780ms/step - loss: 0.3454 - accuracy: 0.8438 - val_loss: 1.2323 - val_accuracy: 0.7322\n",
      "Epoch 57/100\n",
      "250/250 [==============================] - 195s 780ms/step - loss: 0.3371 - accuracy: 0.8501 - val_loss: 1.1087 - val_accuracy: 0.7701\n",
      "Epoch 58/100\n",
      "250/250 [==============================] - 195s 780ms/step - loss: 0.3345 - accuracy: 0.8503 - val_loss: 0.4972 - val_accuracy: 0.7497\n",
      "Epoch 59/100\n",
      "250/250 [==============================] - 195s 780ms/step - loss: 0.3306 - accuracy: 0.8540 - val_loss: 0.3592 - val_accuracy: 0.7500\n",
      "Epoch 60/100\n",
      "250/250 [==============================] - 195s 780ms/step - loss: 0.3305 - accuracy: 0.8576 - val_loss: 0.4683 - val_accuracy: 0.7350\n",
      "Epoch 61/100\n",
      "250/250 [==============================] - 195s 780ms/step - loss: 0.3246 - accuracy: 0.8580 - val_loss: 0.7328 - val_accuracy: 0.7640\n",
      "Epoch 62/100\n",
      "250/250 [==============================] - 195s 781ms/step - loss: 0.3244 - accuracy: 0.8594 - val_loss: 0.8677 - val_accuracy: 0.7421\n",
      "Epoch 63/100\n",
      "250/250 [==============================] - 195s 781ms/step - loss: 0.3175 - accuracy: 0.8626 - val_loss: 0.5029 - val_accuracy: 0.7474\n",
      "Epoch 64/100\n",
      "250/250 [==============================] - 195s 780ms/step - loss: 0.3261 - accuracy: 0.8562 - val_loss: 0.5219 - val_accuracy: 0.7329\n",
      "Epoch 65/100\n",
      "250/250 [==============================] - 195s 780ms/step - loss: 0.3087 - accuracy: 0.8629 - val_loss: 0.5775 - val_accuracy: 0.7527\n",
      "Epoch 66/100\n",
      "250/250 [==============================] - 195s 780ms/step - loss: 0.3209 - accuracy: 0.8576 - val_loss: 0.6254 - val_accuracy: 0.7400\n",
      "Epoch 67/100\n",
      "250/250 [==============================] - 195s 780ms/step - loss: 0.3173 - accuracy: 0.8571 - val_loss: 0.6990 - val_accuracy: 0.7469\n",
      "Epoch 68/100\n",
      "250/250 [==============================] - 195s 782ms/step - loss: 0.3029 - accuracy: 0.8651 - val_loss: 0.7817 - val_accuracy: 0.7498\n",
      "Epoch 69/100\n",
      "250/250 [==============================] - 195s 781ms/step - loss: 0.3137 - accuracy: 0.8633 - val_loss: 0.6951 - val_accuracy: 0.7337\n",
      "Epoch 70/100\n",
      "250/250 [==============================] - 195s 780ms/step - loss: 0.3119 - accuracy: 0.8614 - val_loss: 0.8808 - val_accuracy: 0.7600\n",
      "Epoch 71/100\n",
      "250/250 [==============================] - 195s 782ms/step - loss: 0.2978 - accuracy: 0.8723 - val_loss: 0.6665 - val_accuracy: 0.7537\n",
      "Epoch 72/100\n",
      "250/250 [==============================] - 195s 780ms/step - loss: 0.3095 - accuracy: 0.8637 - val_loss: 0.4970 - val_accuracy: 0.7575\n",
      "Epoch 73/100\n",
      "250/250 [==============================] - 195s 780ms/step - loss: 0.3017 - accuracy: 0.8708 - val_loss: 0.7800 - val_accuracy: 0.7630\n",
      "Epoch 74/100\n",
      "250/250 [==============================] - 195s 780ms/step - loss: 0.2968 - accuracy: 0.8691 - val_loss: 0.7098 - val_accuracy: 0.7518\n",
      "Epoch 75/100\n",
      "250/250 [==============================] - 195s 780ms/step - loss: 0.3002 - accuracy: 0.8680 - val_loss: 0.8864 - val_accuracy: 0.7608\n",
      "Epoch 76/100\n",
      "250/250 [==============================] - 195s 782ms/step - loss: 0.2997 - accuracy: 0.8679 - val_loss: 0.8134 - val_accuracy: 0.7579\n",
      "Epoch 77/100\n",
      "250/250 [==============================] - 195s 780ms/step - loss: 0.2909 - accuracy: 0.8726 - val_loss: 1.0646 - val_accuracy: 0.7474\n",
      "Epoch 78/100\n",
      "250/250 [==============================] - 195s 780ms/step - loss: 0.2909 - accuracy: 0.8764 - val_loss: 1.0142 - val_accuracy: 0.7570\n",
      "Epoch 79/100\n",
      "250/250 [==============================] - 195s 781ms/step - loss: 0.2905 - accuracy: 0.8737 - val_loss: 0.9821 - val_accuracy: 0.7474\n",
      "Epoch 80/100\n",
      "250/250 [==============================] - 195s 782ms/step - loss: 0.2963 - accuracy: 0.8729 - val_loss: 0.4742 - val_accuracy: 0.7564\n",
      "Epoch 81/100\n",
      "250/250 [==============================] - 195s 779ms/step - loss: 0.2854 - accuracy: 0.8773 - val_loss: 1.0729 - val_accuracy: 0.7524\n",
      "Epoch 82/100\n",
      "250/250 [==============================] - 195s 779ms/step - loss: 0.2820 - accuracy: 0.8758 - val_loss: 0.7149 - val_accuracy: 0.7589\n",
      "Epoch 83/100\n",
      "250/250 [==============================] - 195s 780ms/step - loss: 0.2780 - accuracy: 0.8850 - val_loss: 0.3529 - val_accuracy: 0.7431\n",
      "Epoch 84/100\n",
      "250/250 [==============================] - 195s 781ms/step - loss: 0.2825 - accuracy: 0.8817 - val_loss: 0.8652 - val_accuracy: 0.7526\n",
      "Epoch 85/100\n",
      "250/250 [==============================] - 195s 779ms/step - loss: 0.2807 - accuracy: 0.8756 - val_loss: 0.8193 - val_accuracy: 0.7637\n",
      "Epoch 86/100\n",
      "250/250 [==============================] - 195s 780ms/step - loss: 0.2863 - accuracy: 0.8780 - val_loss: 0.4050 - val_accuracy: 0.7611\n",
      "Epoch 87/100\n",
      "250/250 [==============================] - 195s 781ms/step - loss: 0.2816 - accuracy: 0.8799 - val_loss: 0.4436 - val_accuracy: 0.7636\n",
      "Epoch 88/100\n",
      "250/250 [==============================] - 195s 782ms/step - loss: 0.2719 - accuracy: 0.8840 - val_loss: 0.8917 - val_accuracy: 0.7580\n",
      "Epoch 89/100\n",
      "250/250 [==============================] - 195s 779ms/step - loss: 0.2773 - accuracy: 0.8823 - val_loss: 0.4309 - val_accuracy: 0.7455\n",
      "Epoch 90/100\n",
      "250/250 [==============================] - 195s 780ms/step - loss: 0.2738 - accuracy: 0.8813 - val_loss: 0.8769 - val_accuracy: 0.7603\n",
      "Epoch 91/100\n",
      "250/250 [==============================] - 195s 780ms/step - loss: 0.2758 - accuracy: 0.8835 - val_loss: 0.5999 - val_accuracy: 0.7556\n",
      "Epoch 92/100\n",
      "250/250 [==============================] - 195s 781ms/step - loss: 0.2564 - accuracy: 0.8914 - val_loss: 0.8051 - val_accuracy: 0.7411\n",
      "Epoch 93/100\n",
      "250/250 [==============================] - 195s 780ms/step - loss: 0.2705 - accuracy: 0.8845 - val_loss: 0.6496 - val_accuracy: 0.7630\n",
      "Epoch 94/100\n",
      "250/250 [==============================] - 195s 781ms/step - loss: 0.2649 - accuracy: 0.8900 - val_loss: 0.8047 - val_accuracy: 0.7554\n",
      "Epoch 95/100\n",
      "250/250 [==============================] - 195s 782ms/step - loss: 0.2613 - accuracy: 0.8846 - val_loss: 0.6583 - val_accuracy: 0.7640\n",
      "Epoch 96/100\n",
      "250/250 [==============================] - 195s 781ms/step - loss: 0.2676 - accuracy: 0.8873 - val_loss: 0.7440 - val_accuracy: 0.7695\n",
      "Epoch 97/100\n",
      "250/250 [==============================] - 195s 780ms/step - loss: 0.2616 - accuracy: 0.8930 - val_loss: 0.8170 - val_accuracy: 0.7629\n",
      "Epoch 98/100\n",
      "250/250 [==============================] - 195s 780ms/step - loss: 0.2577 - accuracy: 0.8881 - val_loss: 0.4173 - val_accuracy: 0.7466\n",
      "Epoch 99/100\n",
      "250/250 [==============================] - 195s 782ms/step - loss: 0.2593 - accuracy: 0.8875 - val_loss: 0.7445 - val_accuracy: 0.7458\n",
      "Epoch 100/100\n",
      "250/250 [==============================] - 195s 781ms/step - loss: 0.2513 - accuracy: 0.8936 - val_loss: 0.8976 - val_accuracy: 0.7566\n"
     ]
    },
    {
     "data": {
      "text/plain": [
       "<keras.callbacks.callbacks.History at 0x7f69c68df0b8>"
      ]
     },
     "execution_count": 127,
     "metadata": {},
     "output_type": "execute_result"
    }
   ],
   "source": [
    "model.fit_generator(training_set,\n",
    "                         samples_per_epoch = 8000,\n",
    "                         nb_epoch = 100,\n",
    "                         validation_data = test_set,\n",
    "                         nb_val_samples = 2000)"
   ]
  },
  {
   "cell_type": "code",
   "execution_count": 128,
   "metadata": {},
   "outputs": [],
   "source": [
    "import numpy as np\n",
    "from keras.preprocessing import image"
   ]
  },
  {
   "cell_type": "code",
   "execution_count": 145,
   "metadata": {},
   "outputs": [],
   "source": [
    "test_image = image.load_img('test/cat.jpeg',target_size=(64,64))"
   ]
  },
  {
   "cell_type": "code",
   "execution_count": null,
   "metadata": {},
   "outputs": [],
   "source": []
  },
  {
   "cell_type": "code",
   "execution_count": 146,
   "metadata": {},
   "outputs": [],
   "source": [
    "test_image = image.img_to_array(test_image)\n",
    "test_image = np.expand_dims(test_image,axis=0)\n",
    "\n",
    "result = model.predict(test_image)"
   ]
  },
  {
   "cell_type": "code",
   "execution_count": 147,
   "metadata": {},
   "outputs": [
    {
     "data": {
      "text/plain": [
       "array([[1.]], dtype=float32)"
      ]
     },
     "execution_count": 147,
     "metadata": {},
     "output_type": "execute_result"
    }
   ],
   "source": [
    "result"
   ]
  },
  {
   "cell_type": "code",
   "execution_count": 148,
   "metadata": {},
   "outputs": [
    {
     "name": "stdout",
     "output_type": "stream",
     "text": [
      "dog\n"
     ]
    }
   ],
   "source": [
    "if result[0][0]>0.5:\n",
    "    print('dog')\n",
    "else:\n",
    "    print('cat')"
   ]
  },
  {
   "cell_type": "code",
   "execution_count": null,
   "metadata": {},
   "outputs": [],
   "source": []
  }
 ],
 "metadata": {
  "kernelspec": {
   "display_name": "Python 3",
   "language": "python",
   "name": "python3"
  },
  "language_info": {
   "codemirror_mode": {
    "name": "ipython",
    "version": 3
   },
   "file_extension": ".py",
   "mimetype": "text/x-python",
   "name": "python",
   "nbconvert_exporter": "python",
   "pygments_lexer": "ipython3",
   "version": "3.7.3"
  }
 },
 "nbformat": 4,
 "nbformat_minor": 2
}

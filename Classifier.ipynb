{
 "cells": [
  {
   "cell_type": "code",
   "execution_count": 1,
   "metadata": {},
   "outputs": [
    {
     "name": "stderr",
     "output_type": "stream",
     "text": [
      "Using TensorFlow backend.\n"
     ]
    }
   ],
   "source": [
    "from keras.models import Sequential\n",
    "from keras.layers import Convolution2D\n",
    "from keras.layers import MaxPooling2D\n",
    "from keras.layers import Flatten\n",
    "from keras.layers import Dense"
   ]
  },
  {
   "cell_type": "code",
   "execution_count": 2,
   "metadata": {},
   "outputs": [],
   "source": [
    "model = Sequential()"
   ]
  },
  {
   "cell_type": "code",
   "execution_count": 3,
   "metadata": {},
   "outputs": [
    {
     "name": "stderr",
     "output_type": "stream",
     "text": [
      "/home/aswin/anaconda3/lib/python3.7/site-packages/ipykernel_launcher.py:1: UserWarning: Update your `Conv2D` call to the Keras 2 API: `Conv2D(32, (3, 3), input_shape=(64, 64, 3..., activation=\"relu\")`\n",
      "  \"\"\"Entry point for launching an IPython kernel.\n"
     ]
    }
   ],
   "source": [
    "model.add(Convolution2D(32,3,3,input_shape=(64,64,3),activation='relu'))"
   ]
  },
  {
   "cell_type": "code",
   "execution_count": 4,
   "metadata": {},
   "outputs": [],
   "source": [
    "model.add(MaxPooling2D(pool_size=(2,2)))"
   ]
  },
  {
   "cell_type": "code",
   "execution_count": 5,
   "metadata": {},
   "outputs": [],
   "source": [
    "model.add(Flatten())"
   ]
  },
  {
   "cell_type": "code",
   "execution_count": 6,
   "metadata": {},
   "outputs": [
    {
     "name": "stderr",
     "output_type": "stream",
     "text": [
      "/home/aswin/anaconda3/lib/python3.7/site-packages/ipykernel_launcher.py:1: UserWarning: Update your `Dense` call to the Keras 2 API: `Dense(activation=\"relu\", units=128)`\n",
      "  \"\"\"Entry point for launching an IPython kernel.\n",
      "/home/aswin/anaconda3/lib/python3.7/site-packages/ipykernel_launcher.py:2: UserWarning: Update your `Dense` call to the Keras 2 API: `Dense(activation=\"sigmoid\", units=1)`\n",
      "  \n"
     ]
    }
   ],
   "source": [
    "model.add(Dense(output_dim = 128, activation = 'relu'))\n",
    "model.add(Dense(output_dim = 1, activation = 'sigmoid'))"
   ]
  },
  {
   "cell_type": "code",
   "execution_count": 7,
   "metadata": {},
   "outputs": [],
   "source": [
    "model.compile(optimizer = 'adam', loss = 'binary_crossentropy', metrics = ['accuracy'])"
   ]
  },
  {
   "cell_type": "code",
   "execution_count": 8,
   "metadata": {},
   "outputs": [],
   "source": [
    "from keras.preprocessing.image import ImageDataGenerator\n"
   ]
  },
  {
   "cell_type": "code",
   "execution_count": 9,
   "metadata": {},
   "outputs": [],
   "source": [
    "train_datagen = ImageDataGenerator(rescale = 1./255,\n",
    "                                   shear_range = 0.2,\n",
    "                                   zoom_range = 0.2,\n",
    "                                   horizontal_flip = True)"
   ]
  },
  {
   "cell_type": "code",
   "execution_count": 10,
   "metadata": {},
   "outputs": [],
   "source": [
    "test_datagen = ImageDataGenerator(rescale = 1./255)\n"
   ]
  },
  {
   "cell_type": "code",
   "execution_count": 11,
   "metadata": {},
   "outputs": [
    {
     "name": "stdout",
     "output_type": "stream",
     "text": [
      "Found 8000 images belonging to 2 classes.\n"
     ]
    }
   ],
   "source": [
    "training_set = train_datagen.flow_from_directory('dataset/training_set',\n",
    "                                                 target_size = (64, 64),\n",
    "                                                 batch_size = 32,\n",
    "                                                 class_mode = 'binary')"
   ]
  },
  {
   "cell_type": "code",
   "execution_count": 12,
   "metadata": {},
   "outputs": [
    {
     "name": "stdout",
     "output_type": "stream",
     "text": [
      "Found 2000 images belonging to 2 classes.\n"
     ]
    }
   ],
   "source": [
    "test_set = test_datagen.flow_from_directory('dataset/test_set',\n",
    "                                            target_size = (64, 64),\n",
    "                                            batch_size = 32,\n",
    "                                            class_mode = 'binary')"
   ]
  },
  {
   "cell_type": "code",
   "execution_count": 14,
   "metadata": {},
   "outputs": [
    {
     "name": "stderr",
     "output_type": "stream",
     "text": [
      "/home/aswin/anaconda3/lib/python3.7/site-packages/ipykernel_launcher.py:5: UserWarning: The semantics of the Keras 2 argument `steps_per_epoch` is not the same as the Keras 1 argument `samples_per_epoch`. `steps_per_epoch` is the number of batches to draw from the generator at each epoch. Basically steps_per_epoch = samples_per_epoch/batch_size. Similarly `nb_val_samples`->`validation_steps` and `val_samples`->`steps` arguments have changed. Update your method calls accordingly.\n",
      "  \"\"\"\n",
      "/home/aswin/anaconda3/lib/python3.7/site-packages/ipykernel_launcher.py:5: UserWarning: Update your `fit_generator` call to the Keras 2 API: `fit_generator(<keras.pre..., validation_data=<keras.pre..., steps_per_epoch=250, epochs=25, validation_steps=2000)`\n",
      "  \"\"\"\n"
     ]
    },
    {
     "name": "stdout",
     "output_type": "stream",
     "text": [
      "Epoch 1/25\n",
      "250/250 [==============================] - 205s 821ms/step - loss: 0.6053 - accuracy: 0.6795 - val_loss: 0.6990 - val_accuracy: 0.6706\n",
      "Epoch 2/25\n",
      "250/250 [==============================] - 206s 823ms/step - loss: 0.5751 - accuracy: 0.7028 - val_loss: 0.5559 - val_accuracy: 0.7087\n",
      "Epoch 3/25\n",
      "250/250 [==============================] - 204s 817ms/step - loss: 0.5640 - accuracy: 0.7117 - val_loss: 0.4541 - val_accuracy: 0.7124\n",
      "Epoch 4/25\n",
      "250/250 [==============================] - 204s 816ms/step - loss: 0.5397 - accuracy: 0.7258 - val_loss: 0.5213 - val_accuracy: 0.7248\n",
      "Epoch 5/25\n",
      "250/250 [==============================] - 204s 817ms/step - loss: 0.5302 - accuracy: 0.7343 - val_loss: 0.6420 - val_accuracy: 0.6832\n",
      "Epoch 6/25\n",
      "250/250 [==============================] - 204s 817ms/step - loss: 0.5195 - accuracy: 0.7416 - val_loss: 0.5689 - val_accuracy: 0.7457\n",
      "Epoch 7/25\n",
      "250/250 [==============================] - 204s 815ms/step - loss: 0.5113 - accuracy: 0.7459 - val_loss: 0.4303 - val_accuracy: 0.7519\n",
      "Epoch 8/25\n",
      "250/250 [==============================] - 204s 815ms/step - loss: 0.5002 - accuracy: 0.7575 - val_loss: 0.5216 - val_accuracy: 0.7467\n",
      "Epoch 9/25\n",
      "250/250 [==============================] - 205s 819ms/step - loss: 0.4961 - accuracy: 0.7576 - val_loss: 0.5450 - val_accuracy: 0.7711\n",
      "Epoch 10/25\n",
      "250/250 [==============================] - 204s 817ms/step - loss: 0.4818 - accuracy: 0.7636 - val_loss: 0.4370 - val_accuracy: 0.7468\n",
      "Epoch 11/25\n",
      "250/250 [==============================] - 204s 815ms/step - loss: 0.4759 - accuracy: 0.7711 - val_loss: 0.6549 - val_accuracy: 0.7150\n",
      "Epoch 12/25\n",
      "250/250 [==============================] - 204s 817ms/step - loss: 0.4718 - accuracy: 0.7688 - val_loss: 0.4615 - val_accuracy: 0.7520\n",
      "Epoch 13/25\n",
      "250/250 [==============================] - 205s 819ms/step - loss: 0.4572 - accuracy: 0.7800 - val_loss: 0.4848 - val_accuracy: 0.7495\n",
      "Epoch 14/25\n",
      "250/250 [==============================] - 204s 816ms/step - loss: 0.4554 - accuracy: 0.7791 - val_loss: 0.7018 - val_accuracy: 0.7395\n",
      "Epoch 15/25\n",
      "250/250 [==============================] - 203s 810ms/step - loss: 0.4531 - accuracy: 0.7850 - val_loss: 0.5813 - val_accuracy: 0.7336\n",
      "Epoch 16/25\n",
      "250/250 [==============================] - 203s 812ms/step - loss: 0.4480 - accuracy: 0.7901 - val_loss: 0.6737 - val_accuracy: 0.7288\n",
      "Epoch 17/25\n",
      "250/250 [==============================] - 203s 813ms/step - loss: 0.4396 - accuracy: 0.7912 - val_loss: 0.6332 - val_accuracy: 0.7576\n",
      "Epoch 18/25\n",
      "250/250 [==============================] - 203s 811ms/step - loss: 0.4390 - accuracy: 0.7965 - val_loss: 0.6866 - val_accuracy: 0.7527\n",
      "Epoch 19/25\n",
      "250/250 [==============================] - 203s 812ms/step - loss: 0.4349 - accuracy: 0.7933 - val_loss: 0.4197 - val_accuracy: 0.7159\n",
      "Epoch 20/25\n",
      "250/250 [==============================] - 203s 812ms/step - loss: 0.4237 - accuracy: 0.7958 - val_loss: 0.4721 - val_accuracy: 0.7744\n",
      "Epoch 21/25\n",
      "250/250 [==============================] - 203s 811ms/step - loss: 0.4236 - accuracy: 0.7984 - val_loss: 0.3828 - val_accuracy: 0.7440\n",
      "Epoch 22/25\n",
      "250/250 [==============================] - 203s 812ms/step - loss: 0.4129 - accuracy: 0.8148 - val_loss: 0.3993 - val_accuracy: 0.7500\n",
      "Epoch 23/25\n",
      "250/250 [==============================] - 205s 821ms/step - loss: 0.4181 - accuracy: 0.7999 - val_loss: 0.4254 - val_accuracy: 0.7613\n",
      "Epoch 24/25\n",
      "250/250 [==============================] - 206s 823ms/step - loss: 0.4177 - accuracy: 0.8039 - val_loss: 0.9988 - val_accuracy: 0.7599\n",
      "Epoch 25/25\n",
      "250/250 [==============================] - 206s 825ms/step - loss: 0.4021 - accuracy: 0.8148 - val_loss: 0.4351 - val_accuracy: 0.7721\n"
     ]
    },
    {
     "data": {
      "text/plain": [
       "<keras.callbacks.callbacks.History at 0x7f6a0a7f5a90>"
      ]
     },
     "execution_count": 14,
     "metadata": {},
     "output_type": "execute_result"
    }
   ],
   "source": [
    "model.fit_generator(training_set,\n",
    "                         samples_per_epoch = 8000,\n",
    "                         nb_epoch = 25,\n",
    "                         validation_data = test_set,\n",
    "                         nb_val_samples = 2000)"
   ]
  },
  {
   "cell_type": "code",
   "execution_count": 48,
   "metadata": {},
   "outputs": [],
   "source": [
    "import numpy as np\n",
    "from keras.preprocessing import image"
   ]
  },
  {
   "cell_type": "code",
   "execution_count": 61,
   "metadata": {},
   "outputs": [],
   "source": [
    "test_image = image.load_img('dataset/te',target_size=(64,64))"
   ]
  },
  {
   "cell_type": "code",
   "execution_count": null,
   "metadata": {},
   "outputs": [],
   "source": []
  },
  {
   "cell_type": "code",
   "execution_count": 80,
   "metadata": {},
   "outputs": [],
   "source": [
    "# test_image = image.img_to_array(test_set)\n",
    "# test_image = np.expand_dims(test_image,axis=0)\n",
    "\n",
    "result = model.predict(test_set)"
   ]
  },
  {
   "cell_type": "code",
   "execution_count": 81,
   "metadata": {},
   "outputs": [
    {
     "data": {
      "text/plain": [
       "array([[0.06881711],\n",
       "       [0.87416065],\n",
       "       [0.5819689 ],\n",
       "       ...,\n",
       "       [0.86871374],\n",
       "       [0.06381351],\n",
       "       [0.9787291 ]], dtype=float32)"
      ]
     },
     "execution_count": 81,
     "metadata": {},
     "output_type": "execute_result"
    }
   ],
   "source": [
    "result"
   ]
  },
  {
   "cell_type": "code",
   "execution_count": 82,
   "metadata": {},
   "outputs": [
    {
     "name": "stdout",
     "output_type": "stream",
     "text": [
      "cat\n"
     ]
    }
   ],
   "source": [
    "if result[0][0]>0.5:\n",
    "    print('dog')\n",
    "else:\n",
    "    print('cat')"
   ]
  },
  {
   "cell_type": "code",
   "execution_count": 83,
   "metadata": {},
   "outputs": [
    {
     "data": {
      "text/plain": [
       "array([0, 0, 0, ..., 1, 1, 1], dtype=int32)"
      ]
     },
     "execution_count": 83,
     "metadata": {},
     "output_type": "execute_result"
    }
   ],
   "source": [
    "test_set.labels"
   ]
  },
  {
   "cell_type": "code",
   "execution_count": 84,
   "metadata": {},
   "outputs": [],
   "source": [
    "from sklearn.metrics import confusion_matrix"
   ]
  },
  {
   "cell_type": "code",
   "execution_count": 86,
   "metadata": {},
   "outputs": [
    {
     "name": "stdout",
     "output_type": "stream",
     "text": [
      "[[511 517]\n",
      " [489 483]]\n"
     ]
    }
   ],
   "source": [
    "print(confusion_matrix(np.round(result),test_set.labels))"
   ]
  },
  {
   "cell_type": "code",
   "execution_count": 87,
   "metadata": {},
   "outputs": [],
   "source": [
    "from sklearn.metrics import accuracy_score"
   ]
  },
  {
   "cell_type": "code",
   "execution_count": 89,
   "metadata": {},
   "outputs": [
    {
     "data": {
      "text/plain": [
       "0.497"
      ]
     },
     "execution_count": 89,
     "metadata": {},
     "output_type": "execute_result"
    }
   ],
   "source": [
    "accuracy_score(test_set.labels,np.round(result))"
   ]
  },
  {
   "cell_type": "code",
   "execution_count": null,
   "metadata": {},
   "outputs": [],
   "source": []
  }
 ],
 "metadata": {
  "kernelspec": {
   "display_name": "Python 3",
   "language": "python",
   "name": "python3"
  },
  "language_info": {
   "codemirror_mode": {
    "name": "ipython",
    "version": 3
   },
   "file_extension": ".py",
   "mimetype": "text/x-python",
   "name": "python",
   "nbconvert_exporter": "python",
   "pygments_lexer": "ipython3",
   "version": "3.7.3"
  }
 },
 "nbformat": 4,
 "nbformat_minor": 2
}
